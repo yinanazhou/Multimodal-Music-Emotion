{
  "nbformat": 4,
  "nbformat_minor": 0,
  "metadata": {
    "colab": {
      "name": "dataset.ipynb",
      "provenance": [],
      "authorship_tag": "ABX9TyOWX+Ib0CGEAXK4rD42gquP",
      "include_colab_link": true
    },
    "kernelspec": {
      "name": "python3",
      "display_name": "Python 3"
    }
  },
  "cells": [
    {
      "cell_type": "markdown",
      "metadata": {
        "id": "view-in-github",
        "colab_type": "text"
      },
      "source": [
        "<a href=\"https://colab.research.google.com/github/yinanazhou/Music-Emotion/blob/main/dataset.ipynb\" target=\"_parent\"><img src=\"https://colab.research.google.com/assets/colab-badge.svg\" alt=\"Open In Colab\"/></a>"
      ]
    },
    {
      "cell_type": "code",
      "metadata": {
        "colab": {
          "base_uri": "https://localhost:8080/"
        },
        "id": "955RqywQCDO_",
        "outputId": "cd36885d-73e6-4771-bb2a-518d0221279c"
      },
      "source": [
        "from google.colab import drive\r\n",
        "drive.mount('/content/drive')\r\n",
        "%cd /content/drive/MyDrive/MUMT621"
      ],
      "execution_count": 1,
      "outputs": [
        {
          "output_type": "stream",
          "text": [
            "Drive already mounted at /content/drive; to attempt to forcibly remount, call drive.mount(\"/content/drive\", force_remount=True).\n",
            "/content/drive/MyDrive/MUMT621\n"
          ],
          "name": "stdout"
        }
      ]
    },
    {
      "cell_type": "markdown",
      "metadata": {
        "id": "BCNNEBEmakvI"
      },
      "source": [
        "## Import"
      ]
    },
    {
      "cell_type": "code",
      "metadata": {
        "colab": {
          "base_uri": "https://localhost:8080/"
        },
        "id": "6rAOk562DsxF",
        "outputId": "fc7b3bcd-ef70-4d3a-c7bf-bee550765298"
      },
      "source": [
        "!pip install pydub"
      ],
      "execution_count": null,
      "outputs": [
        {
          "output_type": "stream",
          "text": [
            "Requirement already satisfied: pydub in /usr/local/lib/python3.7/dist-packages (0.25.1)\n"
          ],
          "name": "stdout"
        }
      ]
    },
    {
      "cell_type": "code",
      "metadata": {
        "colab": {
          "base_uri": "https://localhost:8080/"
        },
        "id": "I0uvZok0DwEj",
        "outputId": "9e69c24f-e548-45ec-a36e-8f81522d2c36"
      },
      "source": [
        "!apt-get install ffmpeg"
      ],
      "execution_count": null,
      "outputs": [
        {
          "output_type": "stream",
          "text": [
            "Reading package lists... Done\n",
            "Building dependency tree       \n",
            "Reading state information... Done\n",
            "ffmpeg is already the newest version (7:3.4.8-0ubuntu0.2).\n",
            "0 upgraded, 0 newly installed, 0 to remove and 29 not upgraded.\n"
          ],
          "name": "stdout"
        }
      ]
    },
    {
      "cell_type": "markdown",
      "metadata": {
        "id": "cwV0a9bgIh_Q"
      },
      "source": [
        "## Dataset"
      ]
    },
    {
      "cell_type": "markdown",
      "metadata": {
        "id": "LO7b7xtkIyHT"
      },
      "source": [
        "### Download Dataset"
      ]
    },
    {
      "cell_type": "code",
      "metadata": {
        "id": "DrUMUwz9NFE_"
      },
      "source": [
        "!pip install wget\r\n",
        "import wget\r\n",
        "import os\r\n",
        "\r\n",
        "print('Downloading dataset...')\r\n",
        "\r\n",
        "# The URL for the dataset zip file.\r\n",
        "url = 'http://mir.dei.uc.pt/resources/MIREX-like_mood.zip'"
      ],
      "execution_count": null,
      "outputs": []
    },
    {
      "cell_type": "markdown",
      "metadata": {
        "id": "uS_pFkh_ImQ8"
      },
      "source": [
        "### Transfer mp3 file to wav"
      ]
    },
    {
      "cell_type": "code",
      "metadata": {
        "id": "M3RJAhpOQOdm"
      },
      "source": [
        "import os\r\n",
        "from pathlib import Path\r\n",
        "def change2wav(InDir, OutDir):\r\n",
        "  fs = 22000\r\n",
        "  for filename in os.listdir(InDir):\r\n",
        "    if filename.endswith(\".mp3\"):\r\n",
        "      InName = os.path.join(InDir, filename)\r\n",
        "      OutName = os.path.join(OutDir, Path(InName).stem + \".wav\")\r\n",
        "      audio = AudioSegment.from_mp3(InName)\r\n",
        "      audio = audio.set_frame_rate(fs)\r\n",
        "      audio = audio.set_channels(1)\r\n",
        "      audio.export(OutName, format=\"wav\")"
      ],
      "execution_count": null,
      "outputs": []
    },
    {
      "cell_type": "code",
      "metadata": {
        "colab": {
          "base_uri": "https://localhost:8080/"
        },
        "id": "S8hBfFseShKR",
        "outputId": "270da780-cce0-49b7-895b-109dc6115a68"
      },
      "source": [
        "InDir = \"/content/drive/My Drive/MUMT621/dataset/Audio\"\r\n",
        "OutDir = \"/content/drive/My Drive/MUMT621/dataset/Wave\"\r\n",
        "change2wav(InDir,OutDir)\r\n",
        "print('DONE!')"
      ],
      "execution_count": null,
      "outputs": [
        {
          "output_type": "stream",
          "text": [
            "DONE!\n"
          ],
          "name": "stdout"
        }
      ]
    },
    {
      "cell_type": "code",
      "metadata": {
        "colab": {
          "base_uri": "https://localhost:8080/"
        },
        "id": "xzKJ6m36RHWn",
        "outputId": "9a50da81-f489-411a-eaff-130825e4e6f2"
      },
      "source": [
        "path, dirs, files = next(os.walk(\"/content/drive/My Drive/MUMT621/dataset/Audio\"))\r\n",
        "print(len(files))"
      ],
      "execution_count": null,
      "outputs": [
        {
          "output_type": "stream",
          "text": [
            "903\n"
          ],
          "name": "stdout"
        }
      ]
    },
    {
      "cell_type": "code",
      "metadata": {
        "colab": {
          "base_uri": "https://localhost:8080/"
        },
        "id": "DOkyxTOBa2zR",
        "outputId": "d43aa330-6d3b-4a95-faa1-d3e27650f860"
      },
      "source": [
        "path, dirs, files = next(os.walk(\"/content/drive/My Drive/MUMT621/dataset/Wave\"))\r\n",
        "print(len(files))"
      ],
      "execution_count": null,
      "outputs": [
        {
          "output_type": "stream",
          "text": [
            "903\n"
          ],
          "name": "stdout"
        }
      ]
    },
    {
      "cell_type": "markdown",
      "metadata": {
        "id": "dsIXw5uR1LPp"
      },
      "source": [
        "### Generate label csv"
      ]
    },
    {
      "cell_type": "code",
      "metadata": {
        "id": "uyIpTX8O1RmD"
      },
      "source": [
        "import pandas as pd\r\n",
        "\r\n",
        "df = pd.read_csv(\"/content/drive/MyDrive/MUMT621/dataset/clusters.txt\",header=None)\r\n",
        "df.columns=['cluster']\r\n",
        "df.to_csv(\"/content/drive/MyDrive/MUMT621/dataset/clusters.csv\")"
      ],
      "execution_count": null,
      "outputs": []
    },
    {
      "cell_type": "code",
      "metadata": {
        "colab": {
          "base_uri": "https://localhost:8080/"
        },
        "id": "LUz4jE6l3iGr",
        "outputId": "833789ec-b33f-43f4-f089-dc26bed9f639"
      },
      "source": [
        "df.size"
      ],
      "execution_count": null,
      "outputs": [
        {
          "output_type": "execute_result",
          "data": {
            "text/plain": [
              "903"
            ]
          },
          "metadata": {
            "tags": []
          },
          "execution_count": 14
        }
      ]
    },
    {
      "cell_type": "markdown",
      "metadata": {
        "id": "I3qxHxUF6Xja"
      },
      "source": [
        "### Generate lyrics csv"
      ]
    },
    {
      "cell_type": "code",
      "metadata": {
        "colab": {
          "base_uri": "https://localhost:8080/"
        },
        "id": "TTpZp5gc6dJG",
        "outputId": "66906576-0406-4f0f-c4d8-1dcccd760885"
      },
      "source": [
        "import glob\r\n",
        "import os\r\n",
        "import pandas as pd\r\n",
        "from pathlib import Path\r\n",
        "file_list = glob.glob(os.path.join(os.getcwd(), \"/content/drive/My Drive/MUMT621/dataset/Lyrics\", \"*.txt\"))\r\n",
        "\r\n",
        "lyrics = []\r\n",
        "id = []\r\n",
        "\r\n",
        "for file_path in file_list:\r\n",
        "    with open(file_path, encoding=\"latin-1\") as f_input:\r\n",
        "        lyrics.append(f_input.read())\r\n",
        "        id.append(Path(file_path).stem)\r\n",
        "\r\n",
        "df = pd.DataFrame({'id': id, 'col':lyrics})\r\n",
        "id = [int(i) for i in id] \r\n",
        "df.sort_values('id',inplace=True,ignore_index=True)\r\n",
        "print (df.shape)\r\n",
        "\r\n",
        "df.to_csv('/content/drive/MyDrive/MUMT621/dataset/lyrics.csv')"
      ],
      "execution_count": 10,
      "outputs": [
        {
          "output_type": "stream",
          "text": [
            "(764, 2)\n"
          ],
          "name": "stdout"
        }
      ]
    },
    {
      "cell_type": "code",
      "metadata": {
        "colab": {
          "base_uri": "https://localhost:8080/"
        },
        "id": "KTmWEfXV88zN",
        "outputId": "7944e635-e283-4479-d55d-a9b4b6136c24"
      },
      "source": [
        "path, dirs, files = next(os.walk(\"/content/drive/My Drive/MUMT621/dataset/Lyrics\"))\r\n",
        "print(len(files))"
      ],
      "execution_count": 22,
      "outputs": [
        {
          "output_type": "stream",
          "text": [
            "764\n"
          ],
          "name": "stdout"
        }
      ]
    }
  ]
}