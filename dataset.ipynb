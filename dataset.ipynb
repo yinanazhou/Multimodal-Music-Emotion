{
  "nbformat": 4,
  "nbformat_minor": 0,
  "metadata": {
    "colab": {
      "name": "dataset.ipynb",
      "provenance": [],
      "authorship_tag": "ABX9TyNUYwstf1PzMlR+wqM2h7o2",
      "include_colab_link": true
    },
    "kernelspec": {
      "name": "python3",
      "display_name": "Python 3"
    }
  },
  "cells": [
    {
      "cell_type": "markdown",
      "metadata": {
        "id": "view-in-github",
        "colab_type": "text"
      },
      "source": [
        "<a href=\"https://colab.research.google.com/github/yinanazhou/Music-Emotion/blob/main/dataset.ipynb\" target=\"_parent\"><img src=\"https://colab.research.google.com/assets/colab-badge.svg\" alt=\"Open In Colab\"/></a>"
      ]
    },
    {
      "cell_type": "code",
      "metadata": {
        "colab": {
          "base_uri": "https://localhost:8080/"
        },
        "id": "955RqywQCDO_",
        "outputId": "3fcbf582-acaf-401e-bb09-e0169744952b"
      },
      "source": [
        "from google.colab import drive\r\n",
        "drive.mount('/content/drive')\r\n",
        "%cd /content/drive/MyDrive/MUMT621"
      ],
      "execution_count": 1,
      "outputs": [
        {
          "output_type": "stream",
          "text": [
            "Drive already mounted at /content/drive; to attempt to forcibly remount, call drive.mount(\"/content/drive\", force_remount=True).\n",
            "/content/drive/MyDrive/MUMT621\n"
          ],
          "name": "stdout"
        }
      ]
    },
    {
      "cell_type": "markdown",
      "metadata": {
        "id": "BCNNEBEmakvI"
      },
      "source": [
        "## Import"
      ]
    },
    {
      "cell_type": "code",
      "metadata": {
        "colab": {
          "base_uri": "https://localhost:8080/"
        },
        "id": "6rAOk562DsxF",
        "outputId": "fc7b3bcd-ef70-4d3a-c7bf-bee550765298"
      },
      "source": [
        "!pip install pydub"
      ],
      "execution_count": 6,
      "outputs": [
        {
          "output_type": "stream",
          "text": [
            "Requirement already satisfied: pydub in /usr/local/lib/python3.7/dist-packages (0.25.1)\n"
          ],
          "name": "stdout"
        }
      ]
    },
    {
      "cell_type": "code",
      "metadata": {
        "colab": {
          "base_uri": "https://localhost:8080/"
        },
        "id": "I0uvZok0DwEj",
        "outputId": "9e69c24f-e548-45ec-a36e-8f81522d2c36"
      },
      "source": [
        "!apt-get install ffmpeg"
      ],
      "execution_count": 7,
      "outputs": [
        {
          "output_type": "stream",
          "text": [
            "Reading package lists... Done\n",
            "Building dependency tree       \n",
            "Reading state information... Done\n",
            "ffmpeg is already the newest version (7:3.4.8-0ubuntu0.2).\n",
            "0 upgraded, 0 newly installed, 0 to remove and 29 not upgraded.\n"
          ],
          "name": "stdout"
        }
      ]
    },
    {
      "cell_type": "markdown",
      "metadata": {
        "id": "cwV0a9bgIh_Q"
      },
      "source": [
        "## Dataset"
      ]
    },
    {
      "cell_type": "markdown",
      "metadata": {
        "id": "LO7b7xtkIyHT"
      },
      "source": [
        "### Download Dataset"
      ]
    },
    {
      "cell_type": "code",
      "metadata": {
        "id": "DrUMUwz9NFE_"
      },
      "source": [
        "!pip install wget\r\n",
        "import wget\r\n",
        "import os\r\n",
        "\r\n",
        "print('Downloading dataset...')\r\n",
        "\r\n",
        "# The URL for the dataset zip file.\r\n",
        "url = 'http://mir.dei.uc.pt/resources/MIREX-like_mood.zip'"
      ],
      "execution_count": null,
      "outputs": []
    },
    {
      "cell_type": "markdown",
      "metadata": {
        "id": "uS_pFkh_ImQ8"
      },
      "source": [
        "### Transfer mp3 file to wav"
      ]
    },
    {
      "cell_type": "code",
      "metadata": {
        "id": "M3RJAhpOQOdm"
      },
      "source": [
        "import os\r\n",
        "from pathlib import Path\r\n",
        "def change2wav(InDir, OutDir):\r\n",
        "  fs = 22000\r\n",
        "  for filename in os.listdir(InDir):\r\n",
        "    if filename.endswith(\".mp3\"):\r\n",
        "      InName = os.path.join(InDir, filename)\r\n",
        "      OutName = os.path.join(OutDir, Path(InName).stem + \".wav\")\r\n",
        "      audio = AudioSegment.from_mp3(InName)\r\n",
        "      audio = audio.set_frame_rate(fs)\r\n",
        "      audio = audio.set_channels(1)\r\n",
        "      audio.export(OutName, format=\"wav\")"
      ],
      "execution_count": 54,
      "outputs": []
    },
    {
      "cell_type": "code",
      "metadata": {
        "colab": {
          "base_uri": "https://localhost:8080/"
        },
        "id": "S8hBfFseShKR",
        "outputId": "270da780-cce0-49b7-895b-109dc6115a68"
      },
      "source": [
        "InDir = \"/content/drive/My Drive/MUMT621/dataset/Audio\"\r\n",
        "OutDir = \"/content/drive/My Drive/MUMT621/dataset/Wave\"\r\n",
        "change2wav(InDir,OutDir)\r\n",
        "print('DONE!')"
      ],
      "execution_count": 55,
      "outputs": [
        {
          "output_type": "stream",
          "text": [
            "DONE!\n"
          ],
          "name": "stdout"
        }
      ]
    },
    {
      "cell_type": "code",
      "metadata": {
        "colab": {
          "base_uri": "https://localhost:8080/"
        },
        "id": "xzKJ6m36RHWn",
        "outputId": "9a50da81-f489-411a-eaff-130825e4e6f2"
      },
      "source": [
        "path, dirs, files = next(os.walk(\"/content/drive/My Drive/MUMT621/dataset/Audio\"))\r\n",
        "print(len(files))"
      ],
      "execution_count": 57,
      "outputs": [
        {
          "output_type": "stream",
          "text": [
            "903\n"
          ],
          "name": "stdout"
        }
      ]
    },
    {
      "cell_type": "code",
      "metadata": {
        "colab": {
          "base_uri": "https://localhost:8080/"
        },
        "id": "DOkyxTOBa2zR",
        "outputId": "d43aa330-6d3b-4a95-faa1-d3e27650f860"
      },
      "source": [
        "path, dirs, files = next(os.walk(\"/content/drive/My Drive/MUMT621/dataset/Wave\"))\r\n",
        "print(len(files))"
      ],
      "execution_count": 58,
      "outputs": [
        {
          "output_type": "stream",
          "text": [
            "903\n"
          ],
          "name": "stdout"
        }
      ]
    }
  ]
}