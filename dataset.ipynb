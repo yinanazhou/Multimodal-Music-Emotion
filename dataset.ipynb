{
  "nbformat": 4,
  "nbformat_minor": 0,
  "metadata": {
    "colab": {
      "name": "dataset.ipynb",
      "provenance": [],
      "authorship_tag": "ABX9TyO9MC+X66ujTSXoORydyLOs",
      "include_colab_link": true
    },
    "kernelspec": {
      "name": "python3",
      "display_name": "Python 3"
    }
  },
  "cells": [
    {
      "cell_type": "markdown",
      "metadata": {
        "id": "view-in-github",
        "colab_type": "text"
      },
      "source": [
        "<a href=\"https://colab.research.google.com/github/yinanazhou/Music-Emotion/blob/main/dataset.ipynb\" target=\"_parent\"><img src=\"https://colab.research.google.com/assets/colab-badge.svg\" alt=\"Open In Colab\"/></a>"
      ]
    },
    {
      "cell_type": "code",
      "metadata": {
        "colab": {
          "base_uri": "https://localhost:8080/"
        },
        "id": "955RqywQCDO_",
        "outputId": "1409d142-f469-4f99-c45f-7f9fd215db99"
      },
      "source": [
        "from google.colab import drive\n",
        "drive.mount('/content/drive')\n",
        "%cd /content/drive/MyDrive/MUMT621"
      ],
      "execution_count": 1,
      "outputs": [
        {
          "output_type": "stream",
          "text": [
            "Mounted at /content/drive\n",
            "/content/drive/MyDrive/MUMT621\n"
          ],
          "name": "stdout"
        }
      ]
    },
    {
      "cell_type": "markdown",
      "metadata": {
        "id": "BCNNEBEmakvI"
      },
      "source": [
        "## Import"
      ]
    },
    {
      "cell_type": "code",
      "metadata": {
        "colab": {
          "base_uri": "https://localhost:8080/"
        },
        "id": "6rAOk562DsxF",
        "outputId": "fc7b3bcd-ef70-4d3a-c7bf-bee550765298"
      },
      "source": [
        "!pip install pydub"
      ],
      "execution_count": null,
      "outputs": [
        {
          "output_type": "stream",
          "text": [
            "Requirement already satisfied: pydub in /usr/local/lib/python3.7/dist-packages (0.25.1)\n"
          ],
          "name": "stdout"
        }
      ]
    },
    {
      "cell_type": "code",
      "metadata": {
        "colab": {
          "base_uri": "https://localhost:8080/"
        },
        "id": "I0uvZok0DwEj",
        "outputId": "9e69c24f-e548-45ec-a36e-8f81522d2c36"
      },
      "source": [
        "!apt-get install ffmpeg"
      ],
      "execution_count": null,
      "outputs": [
        {
          "output_type": "stream",
          "text": [
            "Reading package lists... Done\n",
            "Building dependency tree       \n",
            "Reading state information... Done\n",
            "ffmpeg is already the newest version (7:3.4.8-0ubuntu0.2).\n",
            "0 upgraded, 0 newly installed, 0 to remove and 29 not upgraded.\n"
          ],
          "name": "stdout"
        }
      ]
    },
    {
      "cell_type": "markdown",
      "metadata": {
        "id": "cwV0a9bgIh_Q"
      },
      "source": [
        "## Dataset"
      ]
    },
    {
      "cell_type": "markdown",
      "metadata": {
        "id": "LO7b7xtkIyHT"
      },
      "source": [
        "### Download Dataset"
      ]
    },
    {
      "cell_type": "code",
      "metadata": {
        "id": "DrUMUwz9NFE_"
      },
      "source": [
        "!pip install wget\n",
        "import wget\n",
        "import os\n",
        "\n",
        "print('Downloading dataset...')\n",
        "\n",
        "# The URL for the dataset zip file.\n",
        "url = 'http://mir.dei.uc.pt/resources/MIREX-like_mood.zip'"
      ],
      "execution_count": null,
      "outputs": []
    },
    {
      "cell_type": "markdown",
      "metadata": {
        "id": "uS_pFkh_ImQ8"
      },
      "source": [
        "### Transfer mp3 file to wav"
      ]
    },
    {
      "cell_type": "code",
      "metadata": {
        "id": "M3RJAhpOQOdm"
      },
      "source": [
        "import os\n",
        "from pathlib import Path\n",
        "def change2wav(InDir, OutDir):\n",
        "  fs = 22000\n",
        "  for filename in os.listdir(InDir):\n",
        "    if filename.endswith(\".mp3\"):\n",
        "      InName = os.path.join(InDir, filename)\n",
        "      OutName = os.path.join(OutDir, Path(InName).stem + \".wav\")\n",
        "      audio = AudioSegment.from_mp3(InName)\n",
        "      audio = audio.set_frame_rate(fs)\n",
        "      audio = audio.set_channels(1)\n",
        "      audio.export(OutName, format=\"wav\")"
      ],
      "execution_count": null,
      "outputs": []
    },
    {
      "cell_type": "code",
      "metadata": {
        "colab": {
          "base_uri": "https://localhost:8080/"
        },
        "id": "S8hBfFseShKR",
        "outputId": "270da780-cce0-49b7-895b-109dc6115a68"
      },
      "source": [
        "InDir = \"/content/drive/My Drive/MUMT621/dataset/Audio\"\n",
        "OutDir = \"/content/drive/My Drive/MUMT621/dataset/Wave\"\n",
        "change2wav(InDir,OutDir)\n",
        "print('DONE!')"
      ],
      "execution_count": null,
      "outputs": [
        {
          "output_type": "stream",
          "text": [
            "DONE!\n"
          ],
          "name": "stdout"
        }
      ]
    },
    {
      "cell_type": "code",
      "metadata": {
        "colab": {
          "base_uri": "https://localhost:8080/"
        },
        "id": "xzKJ6m36RHWn",
        "outputId": "9a50da81-f489-411a-eaff-130825e4e6f2"
      },
      "source": [
        "path, dirs, files = next(os.walk(\"/content/drive/My Drive/MUMT621/dataset/Audio\"))\n",
        "print(len(files))"
      ],
      "execution_count": null,
      "outputs": [
        {
          "output_type": "stream",
          "text": [
            "903\n"
          ],
          "name": "stdout"
        }
      ]
    },
    {
      "cell_type": "code",
      "metadata": {
        "colab": {
          "base_uri": "https://localhost:8080/"
        },
        "id": "DOkyxTOBa2zR",
        "outputId": "d43aa330-6d3b-4a95-faa1-d3e27650f860"
      },
      "source": [
        "path, dirs, files = next(os.walk(\"/content/drive/My Drive/MUMT621/dataset/Wave\"))\n",
        "print(len(files))"
      ],
      "execution_count": null,
      "outputs": [
        {
          "output_type": "stream",
          "text": [
            "903\n"
          ],
          "name": "stdout"
        }
      ]
    },
    {
      "cell_type": "markdown",
      "metadata": {
        "id": "dsIXw5uR1LPp"
      },
      "source": [
        "### Generate label csv"
      ]
    },
    {
      "cell_type": "code",
      "metadata": {
        "id": "ToaR1jeeiU8n"
      },
      "source": [
        "import pandas as pd"
      ],
      "execution_count": 3,
      "outputs": []
    },
    {
      "cell_type": "code",
      "metadata": {
        "id": "uyIpTX8O1RmD"
      },
      "source": [
        "clusters = pd.read_csv(\"/content/drive/MyDrive/MUMT621/dataset/clusters.txt\",header=None)\n",
        "clusters.columns=['cluster']\n",
        "clusters.insert(0,'id',[*range(1,904)])\n",
        "clusters.to_csv(\"/content/drive/MyDrive/MUMT621/dataset/clusters.csv\")"
      ],
      "execution_count": null,
      "outputs": []
    },
    {
      "cell_type": "code",
      "metadata": {
        "colab": {
          "base_uri": "https://localhost:8080/"
        },
        "id": "OUqwQ72Ko76p",
        "outputId": "40b2b2d7-1194-47e5-b01c-36ccc1cdc11e"
      },
      "source": [
        "clusters.columns"
      ],
      "execution_count": null,
      "outputs": [
        {
          "output_type": "execute_result",
          "data": {
            "text/plain": [
              "Index(['id', 'cluster'], dtype='object')"
            ]
          },
          "metadata": {
            "tags": []
          },
          "execution_count": 63
        }
      ]
    },
    {
      "cell_type": "code",
      "metadata": {
        "colab": {
          "base_uri": "https://localhost:8080/"
        },
        "id": "LUz4jE6l3iGr",
        "outputId": "c9d9faaa-7f5e-4412-9a93-e1c7a3e4b433"
      },
      "source": [
        "clusters.shape"
      ],
      "execution_count": null,
      "outputs": [
        {
          "output_type": "execute_result",
          "data": {
            "text/plain": [
              "(903, 2)"
            ]
          },
          "metadata": {
            "tags": []
          },
          "execution_count": 66
        }
      ]
    },
    {
      "cell_type": "markdown",
      "metadata": {
        "id": "I3qxHxUF6Xja"
      },
      "source": [
        "### Generate lyrics csv"
      ]
    },
    {
      "cell_type": "code",
      "metadata": {
        "colab": {
          "base_uri": "https://localhost:8080/"
        },
        "id": "TTpZp5gc6dJG",
        "outputId": "b2e8facc-fba8-4473-8a29-aa5c18a905b1"
      },
      "source": [
        "import glob\n",
        "import os\n",
        "import pandas as pd\n",
        "from pathlib import Path\n",
        "file_list = glob.glob(os.path.join(os.getcwd(), \"/content/drive/My Drive/MUMT621/dataset/Lyrics\", \"*.txt\"))\n",
        "\n",
        "lyrics = []\n",
        "id = []\n",
        "\n",
        "for file_path in file_list:\n",
        "    with open(file_path, encoding=\"latin-1\") as f_input:\n",
        "        lyrics.append(f_input.read())\n",
        "        id.append(Path(file_path).stem)\n",
        "\n",
        "df = pd.DataFrame({'id': id, 'lyrics':lyrics})\n",
        "id = [int(i) for i in id] \n",
        "df.sort_values('id',inplace=True,ignore_index=True)\n",
        "print (df.shape)\n",
        "\n",
        "df.to_csv('/content/drive/MyDrive/MUMT621/dataset/lyrics.csv')"
      ],
      "execution_count": null,
      "outputs": [
        {
          "output_type": "stream",
          "text": [
            "(764, 2)\n"
          ],
          "name": "stdout"
        }
      ]
    },
    {
      "cell_type": "code",
      "metadata": {
        "colab": {
          "base_uri": "https://localhost:8080/"
        },
        "id": "KTmWEfXV88zN",
        "outputId": "7944e635-e283-4479-d55d-a9b4b6136c24"
      },
      "source": [
        "path, dirs, files = next(os.walk(\"/content/drive/My Drive/MUMT621/dataset/Lyrics\"))\n",
        "print(len(files))"
      ],
      "execution_count": null,
      "outputs": [
        {
          "output_type": "stream",
          "text": [
            "764\n"
          ],
          "name": "stdout"
        }
      ]
    },
    {
      "cell_type": "code",
      "metadata": {
        "id": "i15lWPBerYiV"
      },
      "source": [
        "df = pd.read_csv(\"/content/drive/MyDrive/MUMT621/dataset/lyrics.csv\")\n",
        "df = df.iloc[: , 1:]\n",
        "df.to_csv('/content/drive/MyDrive/MUMT621/dataset/lyrics.csv')"
      ],
      "execution_count": null,
      "outputs": []
    },
    {
      "cell_type": "markdown",
      "metadata": {
        "id": "mSCT0CCiPbp7"
      },
      "source": [
        "### distribution"
      ]
    },
    {
      "cell_type": "code",
      "metadata": {
        "id": "PV-z0v2gPWEq"
      },
      "source": [
        "# id & lyrics\n",
        "df = pd.read_csv(\"/content/drive/MyDrive/MUMT621/dataset/lyrics.csv\")\n",
        "# all labels\n",
        "clusters = pd.read_csv(\"/content/drive/MyDrive/MUMT621/dataset/clusters.csv\")"
      ],
      "execution_count": 66,
      "outputs": []
    },
    {
      "cell_type": "code",
      "metadata": {
        "id": "fyBFhobXPnRe"
      },
      "source": [
        "# lyrics labels\n",
        "cluster = pd.DataFrame(columns=['cluster'])"
      ],
      "execution_count": 63,
      "outputs": []
    },
    {
      "cell_type": "code",
      "metadata": {
        "id": "Q9RS0qR4Q-_B"
      },
      "source": [
        "for index in df.id:\n",
        "  temp = pd.DataFrame(clusters.loc[clusters.id==index,'cluster'],columns=['cluster'])\n",
        "  cluster=cluster.append(temp, ignore_index=True)"
      ],
      "execution_count": 64,
      "outputs": []
    },
    {
      "cell_type": "code",
      "metadata": {
        "id": "kNLOJ9uCRZYf"
      },
      "source": [
        "# cluster label according to lyrics\n",
        "labels = pd.DataFrame()\n",
        "labels = pd.concat([df.id,cluster.cluster],axis = 1)\n",
        "# labels.to_csv('/content/drive/MyDrive/MUMT621/dataset/labels.csv')"
      ],
      "execution_count": 90,
      "outputs": []
    },
    {
      "cell_type": "code",
      "metadata": {
        "colab": {
          "base_uri": "https://localhost:8080/"
        },
        "id": "VXSR7X2ssmba",
        "outputId": "1c0a150b-1ec9-4548-987c-782843732131"
      },
      "source": [
        "labels"
      ],
      "execution_count": 88,
      "outputs": [
        {
          "output_type": "execute_result",
          "data": {
            "text/plain": [
              "['Cluster 1', 'Cluster 2', 'Cluster 3', 'Cluster 4', 'Cluster 5']"
            ]
          },
          "metadata": {
            "tags": []
          },
          "execution_count": 88
        }
      ]
    },
    {
      "cell_type": "code",
      "metadata": {
        "id": "mDTK2I4qsLaa"
      },
      "source": [
        "import numpy as np\n",
        "import matplotlib.pyplot as plt\n",
        "from collections import Counter"
      ],
      "execution_count": 75,
      "outputs": []
    },
    {
      "cell_type": "code",
      "metadata": {
        "colab": {
          "base_uri": "https://localhost:8080/",
          "height": 337
        },
        "id": "Tq6EWyvZSNnl",
        "outputId": "69dc2f18-0fff-4dde-cfc2-91281437fdba"
      },
      "source": [
        "# draw distribution\n",
        "\n",
        "y_labels = labels.cluster\n",
        "\n",
        "plt.figure(figsize=(7.8,5),dpi=80) # fig size\n",
        "plt_labels = list(Counter(y_labels).keys()) # label\n",
        "sizes = list(Counter(y_labels).values())\n",
        "\n",
        "colors = ['mediumaquamarine','salmon','sandybrown','plum','skyblue'] # color of each sector\n",
        "explode = (0.01,0.01,0.01,0.01,0.01)\n",
        "patches,text1,text2 = plt.pie(sizes,   \n",
        "                      explode = explode,         \n",
        "                      labels=plt_labels,\n",
        "                      colors=colors,\n",
        "                      # labeldistance = 1.2,\n",
        "                      labeldistance = 1.1,\n",
        "                      autopct = '%3.2f%%', \n",
        "                      shadow = False, \n",
        "                      startangle = 90, \n",
        "                      pctdistance = 0.75) \n",
        "# draw the circle to make donut\n",
        "circle = plt.Circle((0,0),0.5,fc='white')\n",
        "donut = plt.gcf()\n",
        "donut.gca().add_artist(circle)\n",
        "# patches: pie chart，texts1: label text，texts2: pie chart text\n",
        "plt.axis('equal')\n",
        "plt.legend(title = 'Cluster',loc='upper right')\n",
        "plt.savefig('piechart.png')\n",
        "plt.show()"
      ],
      "execution_count": 120,
      "outputs": [
        {
          "output_type": "display_data",
          "data": {
            "image/png": "[encoded data removed]",
            "text/plain": [
              "<Figure size 624x400 with 1 Axes>"
            ]
          },
          "metadata": {
            "tags": []
          }
        }
      ]
    },
    {
      "cell_type": "code",
      "metadata": {
        "colab": {
          "base_uri": "https://localhost:8080/"
        },
        "id": "JesmYKrpTW5J",
        "outputId": "969aa13e-b79c-442a-c7f3-d089601c69f7"
      },
      "source": [
        "# number of tracks of each cluster\n",
        "sizes"
      ],
      "execution_count": 121,
      "outputs": [
        {
          "output_type": "execute_result",
          "data": {
            "text/plain": [
              "[135, 138, 192, 173, 126]"
            ]
          },
          "metadata": {
            "tags": []
          },
          "execution_count": 121
        }
      ]
    }
  ]
}