{
  "nbformat": 4,
  "nbformat_minor": 0,
  "metadata": {
    "colab": {
      "name": "dataset.ipynb",
      "provenance": [],
      "authorship_tag": "ABX9TyP42YWsJZCNMP+LMeNCMm1f",
      "include_colab_link": true
    },
    "kernelspec": {
      "name": "python3",
      "display_name": "Python 3"
    }
  },
  "cells": [
    {
      "cell_type": "markdown",
      "metadata": {
        "id": "view-in-github",
        "colab_type": "text"
      },
      "source": [
        "<a href=\"https://colab.research.google.com/github/yinanazhou/Music-Emotion/blob/main/dataset.ipynb\" target=\"_parent\"><img src=\"https://colab.research.google.com/assets/colab-badge.svg\" alt=\"Open In Colab\"/></a>"
      ]
    },
    {
      "cell_type": "code",
      "metadata": {
        "colab": {
          "base_uri": "https://localhost:8080/"
        },
        "id": "955RqywQCDO_",
        "outputId": "61d476be-1a09-4bde-e5fd-39b48b096ee5"
      },
      "source": [
        "from google.colab import drive\n",
        "drive.mount('/content/drive')\n",
        "%cd /content/drive/MyDrive/MUMT621"
      ],
      "execution_count": 1,
      "outputs": [
        {
          "output_type": "stream",
          "text": [
            "Mounted at /content/drive\n",
            "/content/drive/MyDrive/MUMT621\n"
          ],
          "name": "stdout"
        }
      ]
    },
    {
      "cell_type": "markdown",
      "metadata": {
        "id": "BCNNEBEmakvI"
      },
      "source": [
        "## Import"
      ]
    },
    {
      "cell_type": "code",
      "metadata": {
        "colab": {
          "base_uri": "https://localhost:8080/"
        },
        "id": "6rAOk562DsxF",
        "outputId": "8766f022-8698-4b2e-ac65-3859a6dc010e"
      },
      "source": [
        "!pip install pydub"
      ],
      "execution_count": 2,
      "outputs": [
        {
          "output_type": "stream",
          "text": [
            "Collecting pydub\n",
            "  Downloading https://files.pythonhosted.org/packages/a6/53/d78dc063216e62fc55f6b2eebb447f6a4b0a59f55c8406376f76bf959b08/pydub-0.25.1-py2.py3-none-any.whl\n",
            "Installing collected packages: pydub\n",
            "Successfully installed pydub-0.25.1\n"
          ],
          "name": "stdout"
        }
      ]
    },
    {
      "cell_type": "code",
      "metadata": {
        "colab": {
          "base_uri": "https://localhost:8080/"
        },
        "id": "I0uvZok0DwEj",
        "outputId": "b9ecccf8-4fc7-401e-dfce-08ffd9ca30aa"
      },
      "source": [
        "!apt-get install ffmpeg"
      ],
      "execution_count": 3,
      "outputs": [
        {
          "output_type": "stream",
          "text": [
            "Reading package lists... Done\n",
            "Building dependency tree       \n",
            "Reading state information... Done\n",
            "ffmpeg is already the newest version (7:3.4.8-0ubuntu0.2).\n",
            "0 upgraded, 0 newly installed, 0 to remove and 30 not upgraded.\n"
          ],
          "name": "stdout"
        }
      ]
    },
    {
      "cell_type": "markdown",
      "metadata": {
        "id": "cwV0a9bgIh_Q"
      },
      "source": [
        "## Dataset"
      ]
    },
    {
      "cell_type": "markdown",
      "metadata": {
        "id": "LO7b7xtkIyHT"
      },
      "source": [
        "### Download Dataset"
      ]
    },
    {
      "cell_type": "code",
      "metadata": {
        "id": "DrUMUwz9NFE_"
      },
      "source": [
        "!pip install wget\n",
        "import wget\n",
        "import os\n",
        "\n",
        "print('Downloading dataset...')\n",
        "\n",
        "# The URL for the dataset zip file.\n",
        "url = 'http://mir.dei.uc.pt/resources/MIREX-like_mood.zip'"
      ],
      "execution_count": null,
      "outputs": []
    },
    {
      "cell_type": "markdown",
      "metadata": {
        "id": "uS_pFkh_ImQ8"
      },
      "source": [
        "### Transfer mp3 file to wav"
      ]
    },
    {
      "cell_type": "code",
      "metadata": {
        "id": "M3RJAhpOQOdm"
      },
      "source": [
        "import os\n",
        "from pydub import AudioSegment\n",
        "from pathlib import Path\n",
        "def change2wav(InDir, OutDir):\n",
        "  fs = 22050\n",
        "  for filename in os.listdir(InDir):\n",
        "    if filename.endswith(\".mp3\"):\n",
        "      InName = os.path.join(InDir, filename)\n",
        "      OutName = os.path.join(OutDir, Path(InName).stem + \".wav\")\n",
        "      audio = AudioSegment.from_mp3(InName)\n",
        "      audio = audio.set_frame_rate(fs)\n",
        "      audio = audio.set_channels(1)\n",
        "      audio.export(OutName, format=\"wav\")"
      ],
      "execution_count": 4,
      "outputs": []
    },
    {
      "cell_type": "code",
      "metadata": {
        "colab": {
          "base_uri": "https://localhost:8080/"
        },
        "id": "S8hBfFseShKR",
        "outputId": "90091fe7-d0a4-42ab-a726-b614daa3fd0b"
      },
      "source": [
        "InDir = \"/content/drive/My Drive/MUMT621/dataset/Audio\"\n",
        "OutDir = \"/content/drive/My Drive/MUMT621/dataset/Wave\"\n",
        "change2wav(InDir,OutDir)\n",
        "print('DONE!')"
      ],
      "execution_count": 5,
      "outputs": [
        {
          "output_type": "stream",
          "text": [
            "DONE!\n"
          ],
          "name": "stdout"
        }
      ]
    },
    {
      "cell_type": "code",
      "metadata": {
        "colab": {
          "base_uri": "https://localhost:8080/"
        },
        "id": "xzKJ6m36RHWn",
        "outputId": "9a50da81-f489-411a-eaff-130825e4e6f2"
      },
      "source": [
        "path, dirs, files = next(os.walk(\"/content/drive/My Drive/MUMT621/dataset/Audio\"))\n",
        "print(len(files))"
      ],
      "execution_count": null,
      "outputs": [
        {
          "output_type": "stream",
          "text": [
            "903\n"
          ],
          "name": "stdout"
        }
      ]
    },
    {
      "cell_type": "code",
      "metadata": {
        "colab": {
          "base_uri": "https://localhost:8080/"
        },
        "id": "DOkyxTOBa2zR",
        "outputId": "6e1ce3ba-71ac-4925-9c4f-ee7ef0eaa42c"
      },
      "source": [
        "path, dirs, files = next(os.walk(\"/content/drive/My Drive/MUMT621/dataset/Wave\"))\n",
        "print(len(files))"
      ],
      "execution_count": 9,
      "outputs": [
        {
          "output_type": "stream",
          "text": [
            "903\n"
          ],
          "name": "stdout"
        }
      ]
    },
    {
      "cell_type": "markdown",
      "metadata": {
        "id": "dsIXw5uR1LPp"
      },
      "source": [
        "### Generate label csv"
      ]
    },
    {
      "cell_type": "code",
      "metadata": {
        "id": "uyIpTX8O1RmD"
      },
      "source": [
        "import pandas as pd\n",
        "\n",
        "df = pd.read_csv(\"/content/drive/MyDrive/MUMT621/dataset/clusters.txt\",header=None)\n",
        "df.columns=['cluster']\n",
        "df.to_csv(\"/content/drive/MyDrive/MUMT621/dataset/clusters.csv\")"
      ],
      "execution_count": null,
      "outputs": []
    },
    {
      "cell_type": "code",
      "metadata": {
        "colab": {
          "base_uri": "https://localhost:8080/"
        },
        "id": "LUz4jE6l3iGr",
        "outputId": "833789ec-b33f-43f4-f089-dc26bed9f639"
      },
      "source": [
        "df.size"
      ],
      "execution_count": null,
      "outputs": [
        {
          "output_type": "execute_result",
          "data": {
            "text/plain": [
              "903"
            ]
          },
          "metadata": {
            "tags": []
          },
          "execution_count": 14
        }
      ]
    },
    {
      "cell_type": "markdown",
      "metadata": {
        "id": "I3qxHxUF6Xja"
      },
      "source": [
        "### Generate lyrics csv"
      ]
    },
    {
      "cell_type": "code",
      "metadata": {
        "colab": {
          "base_uri": "https://localhost:8080/"
        },
        "id": "TTpZp5gc6dJG",
        "outputId": "66906576-0406-4f0f-c4d8-1dcccd760885"
      },
      "source": [
        "import glob\n",
        "import os\n",
        "import pandas as pd\n",
        "from pathlib import Path\n",
        "file_list = glob.glob(os.path.join(os.getcwd(), \"/content/drive/My Drive/MUMT621/dataset/Lyrics\", \"*.txt\"))\n",
        "\n",
        "lyrics = []\n",
        "id = []\n",
        "\n",
        "for file_path in file_list:\n",
        "    with open(file_path, encoding=\"latin-1\") as f_input:\n",
        "        lyrics.append(f_input.read())\n",
        "        id.append(Path(file_path).stem)\n",
        "\n",
        "df = pd.DataFrame({'id': id, 'col':lyrics})\n",
        "id = [int(i) for i in id] \n",
        "df.sort_values('id',inplace=True,ignore_index=True)\n",
        "print (df.shape)\n",
        "\n",
        "df.to_csv('/content/drive/MyDrive/MUMT621/dataset/lyrics.csv')"
      ],
      "execution_count": null,
      "outputs": [
        {
          "output_type": "stream",
          "text": [
            "(764, 2)\n"
          ],
          "name": "stdout"
        }
      ]
    },
    {
      "cell_type": "code",
      "metadata": {
        "colab": {
          "base_uri": "https://localhost:8080/"
        },
        "id": "KTmWEfXV88zN",
        "outputId": "7944e635-e283-4479-d55d-a9b4b6136c24"
      },
      "source": [
        "path, dirs, files = next(os.walk(\"/content/drive/My Drive/MUMT621/dataset/Lyrics\"))\n",
        "print(len(files))"
      ],
      "execution_count": null,
      "outputs": [
        {
          "output_type": "stream",
          "text": [
            "764\n"
          ],
          "name": "stdout"
        }
      ]
    }
  ]
}