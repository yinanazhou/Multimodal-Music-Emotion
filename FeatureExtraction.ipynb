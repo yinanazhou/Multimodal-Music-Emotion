{
  "nbformat": 4,
  "nbformat_minor": 0,
  "metadata": {
    "colab": {
      "name": "FeatureExtraction.ipynb",
      "provenance": [],
      "authorship_tag": "ABX9TyN6HGjCcosmyWlzTcwSG79+",
      "include_colab_link": true
    },
    "kernelspec": {
      "name": "python3",
      "display_name": "Python 3"
    },
    "language_info": {
      "name": "python"
    }
  },
  "cells": [
    {
      "cell_type": "markdown",
      "metadata": {
        "id": "view-in-github",
        "colab_type": "text"
      },
      "source": [
        "<a href=\"https://colab.research.google.com/github/yinanazhou/Music-Emotion/blob/main/FeatureExtraction.ipynb\" target=\"_parent\"><img src=\"https://colab.research.google.com/assets/colab-badge.svg\" alt=\"Open In Colab\"/></a>"
      ]
    },
    {
      "cell_type": "code",
      "metadata": {
        "colab": {
          "base_uri": "https://localhost:8080/"
        },
        "id": "3S6d5mCIU5Py",
        "outputId": "ca7f7cad-48dc-42dc-c6ea-758bce42670c"
      },
      "source": [
        "from google.colab import drive\n",
        "drive.mount('/content/drive')\n",
        "%cd /content/drive/MyDrive/MUMT621"
      ],
      "execution_count": 2,
      "outputs": [
        {
          "output_type": "stream",
          "text": [
            "Mounted at /content/drive\n",
            "/content/drive/MyDrive/MUMT621\n"
          ],
          "name": "stdout"
        }
      ]
    },
    {
      "cell_type": "markdown",
      "metadata": {
        "id": "LML8_f5cazvA"
      },
      "source": [
        "## Audio Feature"
      ]
    },
    {
      "cell_type": "markdown",
      "metadata": {
        "id": "EbmQOX72a3Qi"
      },
      "source": [
        "### MFCC"
      ]
    },
    {
      "cell_type": "code",
      "metadata": {
        "id": "1PDTD5PmVBC4"
      },
      "source": [
        "import glob\n",
        "import os\n",
        "import wave\n",
        "import librosa\n",
        "import numpy as np\n",
        "import pandas as pd\n",
        "from pathlib import Path\n",
        "# file_list = glob.glob(os.path.join(os.getcwd(), \"/content/drive/My Drive/MUMT621/dataset/Wave\", \"*.wav\"))\n",
        "\n",
        "mfccs = np.array([[[]]])\n",
        "id = []\n",
        "Dir = '/content/drive/My Drive/MUMT621/dataset/Wave'\n",
        "for filename in os.listdir(Dir):\n",
        "    if filename.endswith(\".wav\"):\n",
        "      wav = wave.open(filename)\n",
        "      mfcc = librosa.feature.mfcc(wav)\n",
        "      mfccs = np.concatenate((mfccs, mfcc))\n"
      ],
      "execution_count": null,
      "outputs": []
    },
    {
      "cell_type": "code",
      "metadata": {
        "id": "rlvZxvWao8nH"
      },
      "source": [
        "wave.open(\"/content/drive/My Drive/MUMT621/dataset/Wave\")"
      ],
      "execution_count": null,
      "outputs": []
    },
    {
      "cell_type": "code",
      "metadata": {
        "id": "P37w1gY2bGb4"
      },
      "source": [
        "df = pd.DataFrame({'id': id, 'col':lyrics})\n",
        "id = [int(i) for i in id] \n",
        "df.sort_values('id',inplace=True,ignore_index=True)\n",
        "print (df.shape)\n",
        "\n",
        "df.to_csv('/content/drive/MyDrive/MUMT621/dataset/lyrics.csv')"
      ],
      "execution_count": null,
      "outputs": []
    },
    {
      "cell_type": "code",
      "metadata": {
        "id": "VupRGZFzcDhU"
      },
      "source": [
        "import librosa\n",
        "w,sr = librosa.load(\"/content/drive/My Drive/MUMT621/dataset/Wave/071.wav\")\n",
        "mfcc = librosa.feature.mfcc(w)"
      ],
      "execution_count": 50,
      "outputs": []
    }
  ]
}