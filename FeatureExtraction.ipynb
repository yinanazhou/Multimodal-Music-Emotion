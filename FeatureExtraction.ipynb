{
  "nbformat": 4,
  "nbformat_minor": 0,
  "metadata": {
    "colab": {
      "name": "FeatureExtraction.ipynb",
      "provenance": [],
      "authorship_tag": "ABX9TyOTA/1EQaIdREOFt9ifUj9e",
      "include_colab_link": true
    },
    "kernelspec": {
      "name": "python3",
      "display_name": "Python 3"
    },
    "language_info": {
      "name": "python"
    }
  },
  "cells": [
    {
      "cell_type": "markdown",
      "metadata": {
        "id": "view-in-github",
        "colab_type": "text"
      },
      "source": [
        "<a href=\"https://colab.research.google.com/github/yinanazhou/Music-Emotion/blob/main/FeatureExtraction.ipynb\" target=\"_parent\"><img src=\"https://colab.research.google.com/assets/colab-badge.svg\" alt=\"Open In Colab\"/></a>"
      ]
    },
    {
      "cell_type": "code",
      "metadata": {
        "colab": {
          "base_uri": "https://localhost:8080/"
        },
        "id": "3S6d5mCIU5Py",
        "outputId": "40690463-c8b6-4332-d4e3-7ac8168158f2"
      },
      "source": [
        "from google.colab import drive\n",
        "drive.mount('/content/drive')\n",
        "%cd /content/drive/MyDrive/MUMT621/dataset"
      ],
      "execution_count": 2,
      "outputs": [
        {
          "output_type": "stream",
          "text": [
            "Mounted at /content/drive\n",
            "/content/drive/MyDrive/MUMT621/dataset\n"
          ],
          "name": "stdout"
        }
      ]
    },
    {
      "cell_type": "markdown",
      "metadata": {
        "id": "LML8_f5cazvA"
      },
      "source": [
        "## Audio Feature"
      ]
    },
    {
      "cell_type": "markdown",
      "metadata": {
        "id": "EbmQOX72a3Qi"
      },
      "source": [
        "### MFCC"
      ]
    },
    {
      "cell_type": "code",
      "metadata": {
        "id": "v9CrBp84A1Dy"
      },
      "source": [
        "import glob\n",
        "import os\n",
        "import wave\n",
        "import librosa\n",
        "import numpy as np\n",
        "import pandas as pd\n",
        "from pathlib import Path"
      ],
      "execution_count": 11,
      "outputs": []
    },
    {
      "cell_type": "code",
      "metadata": {
        "id": "6n4msMBTCXYK"
      },
      "source": [
        "lyrics = pd.read_csv(\"/content/drive/MyDrive/MUMT621/dataset/lyrics.csv\")"
      ],
      "execution_count": 12,
      "outputs": []
    },
    {
      "cell_type": "code",
      "metadata": {
        "id": "0zJRDXorBXB-"
      },
      "source": [
        "mfccs = np.array([])\n",
        "id = []\n",
        "Dir = '/content/drive/My Drive/MUMT621/dataset/Wave'\n",
        "# directory to put our results in, you can change the name if you like\n",
        "OutDir = '/content/drive/My Drive/MUMT621/dataset/MFCC'\n",
        "\n",
        "# make a new folder in this directory to save our results in\n",
        "if not os.path.exists(OutDir):\n",
        "    os.makedirs(OutDir)\n",
        "  \n",
        "# extract mfccs and save into different csv files\n",
        "for index in lyrics.id:\n",
        "  filename = os.path.join(Dir, str(index).zfill(3) + \".wav\")\n",
        "  id.append(index)\n",
        "  w,sr = librosa.load(filename)\n",
        "  mfcc = librosa.feature.mfcc(w)\n",
        "  # create a file to save our results in\n",
        "  OutFile = OutDir + \"/\" + Path(filename).stem + \".csv\"\n",
        "  file = open(OutFile, 'w+') # make file/over write existing file\n",
        "  np.savetxt(file, mfcc, delimiter=\",\") #save MFCCs as .csv\n",
        "  file.close() # close file"
      ],
      "execution_count": 23,
      "outputs": []
    },
    {
      "cell_type": "code",
      "metadata": {
        "colab": {
          "base_uri": "https://localhost:8080/"
        },
        "id": "wGfGHuBZRG6I",
        "outputId": "08960e04-7af8-460f-f8c7-356866e7878e"
      },
      "source": [
        "path, dirs, files = next(os.walk(\"/content/drive/My Drive/MUMT621/dataset/MFCC\"))\n",
        "print(len(files))"
      ],
      "execution_count": 24,
      "outputs": [
        {
          "output_type": "stream",
          "text": [
            "764\n"
          ],
          "name": "stdout"
        }
      ]
    },
    {
      "cell_type": "markdown",
      "metadata": {
        "id": "95_4HItIH4xv"
      },
      "source": [
        "## Lyrical Feature"
      ]
    }
  ]
}